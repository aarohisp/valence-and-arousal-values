{
  "nbformat": 4,
  "nbformat_minor": 0,
  "metadata": {
    "colab": {
      "provenance": [],
      "authorship_tag": "ABX9TyNJnP112V46agKDEhnYLnkb",
      "include_colab_link": true
    },
    "kernelspec": {
      "name": "python3",
      "display_name": "Python 3"
    },
    "language_info": {
      "name": "python"
    }
  },
  "cells": [
    {
      "cell_type": "markdown",
      "metadata": {
        "id": "view-in-github",
        "colab_type": "text"
      },
      "source": [
        "<a href=\"https://colab.research.google.com/github/aarohisp/valence-and-arousal-values/blob/main/valence_and_arousal_value.ipynb\" target=\"_parent\"><img src=\"https://colab.research.google.com/assets/colab-badge.svg\" alt=\"Open In Colab\"/></a>"
      ]
    },
    {
      "cell_type": "code",
      "execution_count": null,
      "metadata": {
        "id": "YxnDyHU6sera"
      },
      "outputs": [],
      "source": [
        "import librosa\n",
        "import numpy as np"
      ]
    },
    {
      "cell_type": "code",
      "source": [
        "# Load the audio file\n",
        "audio_file = \"/content/01-counting-stars.mp3\"\n",
        "audio_data, sr = librosa.load(audio_file)"
      ],
      "metadata": {
        "id": "oFNspWxgeuBA"
      },
      "execution_count": null,
      "outputs": []
    },
    {
      "cell_type": "code",
      "source": [
        "# Calculate the tempo and beat frames\n",
        "tempo, beat_frames = librosa.beat.beat_track(y = audio_data, sr = sr)\n",
        "#empo, beat_frames = librosa.beat.beat_track(y=y, sr=sr)"
      ],
      "metadata": {
        "id": "thukRdbMevVu"
      },
      "execution_count": null,
      "outputs": []
    },
    {
      "cell_type": "code",
      "source": [
        "# Calculate the spectral centroid and bandwidth\n",
        "spec_centroid = librosa.feature.spectral_centroid(y = audio_data, sr = sr)[0]\n",
        "spec_bandwidth = librosa.feature.spectral_bandwidth(y = audio_data, sr = sr)[0]"
      ],
      "metadata": {
        "id": "E3mmTN0Zewo5"
      },
      "execution_count": null,
      "outputs": []
    },
    {
      "cell_type": "code",
      "source": [
        "# Calculate the RMS energy and zero-crossing rate\n",
        "rms_energy = librosa.feature.rms(y = audio_data)[0]\n",
        "zero_crossing_rate = librosa.feature.zero_crossing_rate(y = audio_data)[0]"
      ],
      "metadata": {
        "id": "Encj0vvAfwzP"
      },
      "execution_count": null,
      "outputs": []
    },
    {
      "cell_type": "code",
      "source": [
        "# Calculate the mean and standard deviation of the spectral centroid and bandwidth\n",
        "spec_centroid_mean = np.mean(spec_centroid)\n",
        "spec_centroid_std = np.std(spec_centroid)\n",
        "spec_bandwidth_mean = np.mean(spec_bandwidth)\n",
        "spec_bandwidth_std = np.std(spec_bandwidth)"
      ],
      "metadata": {
        "id": "YbY0zkSCfx9X"
      },
      "execution_count": null,
      "outputs": []
    },
    {
      "cell_type": "code",
      "source": [
        "# Calculate the mean and standard deviation of the RMS energy and zero-crossing rate\n",
        "rms_energy_mean = np.mean(rms_energy)\n",
        "rms_energy_std = np.std(rms_energy)\n",
        "zero_crossing_rate_mean = np.mean(zero_crossing_rate)\n",
        "zero_crossing_rate_std = np.std(zero_crossing_rate)"
      ],
      "metadata": {
        "id": "SHxz0jdyfzK_"
      },
      "execution_count": null,
      "outputs": []
    },
    {
      "cell_type": "code",
      "source": [
        "# Calculate the valence and arousal values\n",
        "valence = (spec_centroid_mean - spec_centroid_std) + (rms_energy_mean + zero_crossing_rate_mean) / 2\n",
        "arousal = (spec_bandwidth_mean - spec_bandwidth_std) + (tempo + zero_crossing_rate_std) / 2"
      ],
      "metadata": {
        "id": "4zxHccQFf1A3"
      },
      "execution_count": null,
      "outputs": []
    },
    {
      "cell_type": "code",
      "source": [
        "valence"
      ],
      "metadata": {
        "id": "kcIVubopiEGz",
        "outputId": "7f25242d-755b-41c1-a9c6-e2c6432889eb",
        "colab": {
          "base_uri": "https://localhost:8080/"
        }
      },
      "execution_count": null,
      "outputs": [
        {
          "output_type": "execute_result",
          "data": {
            "text/plain": [
              "1033.273026877722"
            ]
          },
          "metadata": {},
          "execution_count": 32
        }
      ]
    },
    {
      "cell_type": "code",
      "source": [
        "arousal"
      ],
      "metadata": {
        "colab": {
          "base_uri": "https://localhost:8080/"
        },
        "id": "35-6gLeChVwI",
        "outputId": "af2d223b-1aa1-4c5b-dc24-192208d98d99"
      },
      "execution_count": null,
      "outputs": [
        {
          "output_type": "execute_result",
          "data": {
            "text/plain": [
              "1895.543724463495"
            ]
          },
          "metadata": {},
          "execution_count": 33
        }
      ]
    }
  ]
}